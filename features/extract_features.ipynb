{
 "cells": [
  {
   "cell_type": "code",
   "execution_count": 1,
   "metadata": {},
   "outputs": [],
   "source": [
    "# extract features from train/valid/test files"
   ]
  },
  {
   "cell_type": "code",
   "execution_count": 2,
   "metadata": {},
   "outputs": [
    {
     "name": "stderr",
     "output_type": "stream",
     "text": [
      "D:\\anaconda3\\lib\\site-packages\\nltk\\twitter\\__init__.py:20: UserWarning: The twython library has not been installed. Some functionality from the twitter package will not be available.\n",
      "  warnings.warn(\"The twython library has not been installed. \"\n"
     ]
    }
   ],
   "source": [
    "from pprint import pprint\n",
    "from features.features.cosine_similarity import cosine_similarity\n",
    "from features.features.content_features import *\n",
    "from features.features.user_features import *\n",
    "from features.features.structural_features import *\n",
    "from features.features.sentiment_features import *\n",
    "from features.data_helper import *"
   ]
  },
  {
   "cell_type": "code",
   "execution_count": 3,
   "metadata": {},
   "outputs": [],
   "source": [
    "train_file = '../data/msdialog/train.tsv'\n",
    "valid_file = '../data/msdialog/valid.tsv'\n",
    "test_file = '../data/msdialog/test.tsv'"
   ]
  },
  {
   "cell_type": "code",
   "execution_count": 4,
   "metadata": {},
   "outputs": [
    {
     "ename": "FileNotFoundError",
     "evalue": "[Errno 2] No such file or directory: 'data/idf.tsv'",
     "output_type": "error",
     "traceback": [
      "\u001B[1;31m---------------------------------------------------------------------------\u001B[0m",
      "\u001B[1;31mFileNotFoundError\u001B[0m                         Traceback (most recent call last)",
      "\u001B[1;32m<ipython-input-4-e0143f279ff4>\u001B[0m in \u001B[0;36m<module>\u001B[1;34m()\u001B[0m\n\u001B[0;32m      8\u001B[0m \u001B[0mpos_file\u001B[0m \u001B[1;33m=\u001B[0m \u001B[1;34m'data/positive-words.txt'\u001B[0m\u001B[1;33m\u001B[0m\u001B[0m\n\u001B[0;32m      9\u001B[0m \u001B[0mneg_file\u001B[0m \u001B[1;33m=\u001B[0m \u001B[1;34m'data/negative-words.txt'\u001B[0m\u001B[1;33m\u001B[0m\u001B[0m\n\u001B[1;32m---> 10\u001B[1;33m \u001B[0mterm_to_idf_dict\u001B[0m \u001B[1;33m=\u001B[0m \u001B[0minit_tf_idf_dict\u001B[0m\u001B[1;33m(\u001B[0m\u001B[0midf_file\u001B[0m\u001B[1;33m)\u001B[0m\u001B[1;33m\u001B[0m\u001B[0m\n\u001B[0m\u001B[0;32m     11\u001B[0m \u001B[0mpos_dict\u001B[0m\u001B[1;33m,\u001B[0m \u001B[0mneg_dict\u001B[0m \u001B[1;33m=\u001B[0m \u001B[0mload_sentiment_lexicon\u001B[0m\u001B[1;33m(\u001B[0m\u001B[0mpos_file\u001B[0m\u001B[1;33m,\u001B[0m \u001B[0mneg_file\u001B[0m\u001B[1;33m)\u001B[0m\u001B[1;33m\u001B[0m\u001B[0m\n",
      "\u001B[1;32mE:\\UserIntentPrediction-master\\UserIntentPrediction-master\\features\\data_helper.py\u001B[0m in \u001B[0;36minit_tf_idf_dict\u001B[1;34m(idf_file)\u001B[0m\n\u001B[0;32m     35\u001B[0m     \u001B[0mterm_to_idf_dict\u001B[0m \u001B[1;33m=\u001B[0m \u001B[1;33m{\u001B[0m\u001B[1;33m}\u001B[0m\u001B[1;33m\u001B[0m\u001B[0m\n\u001B[0;32m     36\u001B[0m \u001B[1;33m\u001B[0m\u001B[0m\n\u001B[1;32m---> 37\u001B[1;33m     \u001B[1;32mwith\u001B[0m \u001B[0mopen\u001B[0m\u001B[1;33m(\u001B[0m\u001B[0midf_file\u001B[0m\u001B[1;33m,\u001B[0m \u001B[0mencoding\u001B[0m\u001B[1;33m=\u001B[0m\u001B[1;34m'utf-8'\u001B[0m\u001B[1;33m)\u001B[0m \u001B[1;32mas\u001B[0m \u001B[0mfin\u001B[0m\u001B[1;33m:\u001B[0m\u001B[1;33m\u001B[0m\u001B[0m\n\u001B[0m\u001B[0;32m     38\u001B[0m         \u001B[1;32mfor\u001B[0m \u001B[0mline\u001B[0m \u001B[1;32min\u001B[0m \u001B[0mfin\u001B[0m\u001B[1;33m:\u001B[0m\u001B[1;33m\u001B[0m\u001B[0m\n\u001B[0;32m     39\u001B[0m             \u001B[0mtokens\u001B[0m \u001B[1;33m=\u001B[0m \u001B[0mline\u001B[0m\u001B[1;33m.\u001B[0m\u001B[0msplit\u001B[0m\u001B[1;33m(\u001B[0m\u001B[1;34m'\\t'\u001B[0m\u001B[1;33m)\u001B[0m\u001B[1;33m\u001B[0m\u001B[0m\n",
      "\u001B[1;31mFileNotFoundError\u001B[0m: [Errno 2] No such file or directory: 'data/idf.tsv'"
     ]
    }
   ],
   "source": [
    "idf_file = 'data/idf.tsv'\n",
    "\n",
    "train_feat_file = '../data/msdialog/train_features.tsv'\n",
    "valid_feat_file = '../data/msdialog/valid_features.tsv'\n",
    "test_feat_file = '../data/msdialog/test_features.tsv'\n",
    "\n",
    "pos_file = '../data/positive-words.txt'\n",
    "neg_file = '../data/negative-words.txt'\n",
    "term_to_idf_dict = init_tf_idf_dict(idf_file)\n",
    "pos_dict, neg_dict = load_sentiment_lexicon(pos_file, neg_file)"
   ]
  },
  {
   "cell_type": "code",
   "execution_count": 5,
   "metadata": {},
   "outputs": [
    {
     "ename": "NameError",
     "evalue": "name 'term_to_idf_dict' is not defined",
     "output_type": "error",
     "traceback": [
      "\u001B[1;31m---------------------------------------------------------------------------\u001B[0m",
      "\u001B[1;31mNameError\u001B[0m                                 Traceback (most recent call last)",
      "\u001B[1;32m<ipython-input-5-a222a50dcd46>\u001B[0m in \u001B[0;36m<module>\u001B[1;34m()\u001B[0m\n\u001B[0;32m     15\u001B[0m \u001B[1;33m\u001B[0m\u001B[0m\n\u001B[0;32m     16\u001B[0m                 \u001B[1;31m# content based features\u001B[0m\u001B[1;33m\u001B[0m\u001B[1;33m\u001B[0m\u001B[0m\n\u001B[1;32m---> 17\u001B[1;33m                 \u001B[0m_\u001B[0m\u001B[1;33m,\u001B[0m \u001B[0minit_sim\u001B[0m\u001B[1;33m,\u001B[0m \u001B[0mthread_sim\u001B[0m \u001B[1;33m=\u001B[0m \u001B[0mcosine_similarity\u001B[0m\u001B[1;33m(\u001B[0m\u001B[1;34m\"\"\u001B[0m\u001B[1;33m,\u001B[0m \u001B[0mutterances\u001B[0m\u001B[1;33m,\u001B[0m \u001B[0mterm_to_idf_dict\u001B[0m\u001B[1;33m)\u001B[0m\u001B[1;33m\u001B[0m\u001B[0m\n\u001B[0m\u001B[0;32m     18\u001B[0m                 \u001B[0mqm\u001B[0m \u001B[1;33m=\u001B[0m \u001B[0mquestion_mark\u001B[0m\u001B[1;33m(\u001B[0m\u001B[0mutterances\u001B[0m\u001B[1;33m)\u001B[0m\u001B[1;33m\u001B[0m\u001B[0m\n\u001B[0;32m     19\u001B[0m                 \u001B[0mdup\u001B[0m \u001B[1;33m=\u001B[0m \u001B[0mduplicate\u001B[0m\u001B[1;33m(\u001B[0m\u001B[0mutterances\u001B[0m\u001B[1;33m)\u001B[0m\u001B[1;33m\u001B[0m\u001B[0m\n",
      "\u001B[1;31mNameError\u001B[0m: name 'term_to_idf_dict' is not defined"
     ]
    }
   ],
   "source": [
    "for in_file, out_file in zip([train_file, valid_file, test_file], [train_feat_file, valid_feat_file, test_feat_file]):\n",
    "    with open(in_file) as fin, open(out_file, 'w') as fout:\n",
    "        utterances = []\n",
    "        labels = []\n",
    "        uoas = []\n",
    "        for line in fin:\n",
    "            if line != '\\n':\n",
    "                tokens = line.strip().split('\\t')\n",
    "                labels.append(tokens[0])\n",
    "                utterances.append(tokens[1])\n",
    "                uoas.append(tokens[2])\n",
    "            else:\n",
    "                # extract features\n",
    "                \n",
    "                # content based features\n",
    "                _, init_sim, thread_sim = cosine_similarity(\"\", utterances, term_to_idf_dict)\n",
    "                qm = question_mark(utterances)\n",
    "                dup = duplicate(utterances)\n",
    "                wh = W5H1(utterances)\n",
    "\n",
    "                # structural features\n",
    "                abs_pos = [idx + 1 for idx in range(len(utterances))]\n",
    "                norm_pos = [pos / len(utterances) for pos in abs_pos]\n",
    "                length, unique_length, unique_stemmed_length = post_length(utterances)\n",
    "\n",
    "                # user features\n",
    "#                 ua = user_auth(affiliations)\n",
    "                is_starter = [1 if uoa == 'User' else 0 for uoa in uoas]\n",
    "\n",
    "                # sentiment based features\n",
    "                thx = thank(utterances)\n",
    "                exclam_mark = exclamation_mark(utterances)\n",
    "                vf = ve_feedback(utterances)\n",
    "                ss = sentiment_scores(utterances)\n",
    "                lexicon_counts = lexicon(utterances, pos_dict, neg_dict)\n",
    "                \n",
    "                # write to file\n",
    "                for i, utterance in enumerate(utterances):\n",
    "#                     try:\n",
    "                    fout.write('{}\\t{:.4f} {:.4f} {} {} {} {} {:.4f} {} {} {} {} {} {} {} {} {}\\n'.format(\n",
    "                        labels[i],\n",
    "                        init_sim[i],\n",
    "                        thread_sim[i],\n",
    "                        qm[i],\n",
    "                        dup[i],\n",
    "                        ' '.join(wh[i]),\n",
    "                        abs_pos[i],\n",
    "                        norm_pos[i],\n",
    "                        length[i],\n",
    "                        unique_length[i],\n",
    "                        unique_stemmed_length[i],\n",
    "                        is_starter[i],\n",
    "                        thx[i],\n",
    "                        exclam_mark[i],\n",
    "                        vf[i],\n",
    "                        ' '.join(ss[i]),\n",
    "                        ' '.join(lexicon_counts[i]),\n",
    "                    ))\n",
    "#                     except:\n",
    "#                         print(utterance)\n",
    "                        \n",
    "                fout.write('\\n')\n",
    "                utterances = []\n",
    "                labels = []\n",
    "                uoas = []"
   ]
  }
 ],
 "metadata": {
  "kernelspec": {
   "display_name": "Python 3",
   "language": "python",
   "name": "python3"
  },
  "language_info": {
   "codemirror_mode": {
    "name": "ipython",
    "version": 3
   },
   "file_extension": ".py",
   "mimetype": "text/x-python",
   "name": "python",
   "nbconvert_exporter": "python",
   "pygments_lexer": "ipython3",
   "version": "3.4.5"
  }
 },
 "nbformat": 4,
 "nbformat_minor": 2
}